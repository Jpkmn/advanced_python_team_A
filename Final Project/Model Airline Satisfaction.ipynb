{
 "cells": [
  {
   "cell_type": "code",
   "id": "initial_id",
   "metadata": {
    "collapsed": true,
    "ExecuteTime": {
     "end_time": "2024-06-05T17:43:11.126818Z",
     "start_time": "2024-06-05T17:43:11.006737Z"
    }
   },
   "source": [
    "import pandas as pd\n",
    "# Import csv file\n",
    "df = pd.read_csv('./data/Airline_customer_satisfaction_original.csv')\n",
    "df.head()"
   ],
   "outputs": [
    {
     "data": {
      "text/plain": [
       "  satisfaction   Customer Type  Age   Type of Travel     Class  \\\n",
       "0    satisfied  Loyal Customer   65  Personal Travel       Eco   \n",
       "1    satisfied  Loyal Customer   47  Personal Travel  Business   \n",
       "2    satisfied  Loyal Customer   15  Personal Travel       Eco   \n",
       "3    satisfied  Loyal Customer   60  Personal Travel       Eco   \n",
       "4    satisfied  Loyal Customer   70  Personal Travel       Eco   \n",
       "\n",
       "   Flight Distance  Seat comfort  Departure/Arrival time convenient  \\\n",
       "0              265             0                                  0   \n",
       "1             2464             0                                  0   \n",
       "2             2138             0                                  0   \n",
       "3              623             0                                  0   \n",
       "4              354             0                                  0   \n",
       "\n",
       "   Food and drink  Gate location  ...  Online support  Ease of Online booking  \\\n",
       "0               0              2  ...               2                       3   \n",
       "1               0              3  ...               2                       3   \n",
       "2               0              3  ...               2                       2   \n",
       "3               0              3  ...               3                       1   \n",
       "4               0              3  ...               4                       2   \n",
       "\n",
       "   On-board service  Leg room service  Baggage handling  Checkin service  \\\n",
       "0                 3                 0                 3                5   \n",
       "1                 4                 4                 4                2   \n",
       "2                 3                 3                 4                4   \n",
       "3                 1                 0                 1                4   \n",
       "4                 2                 0                 2                4   \n",
       "\n",
       "   Cleanliness  Online boarding  Departure Delay in Minutes  \\\n",
       "0            3                2                           0   \n",
       "1            3                2                         310   \n",
       "2            4                2                           0   \n",
       "3            1                3                           0   \n",
       "4            2                5                           0   \n",
       "\n",
       "   Arrival Delay in Minutes  \n",
       "0                       0.0  \n",
       "1                     305.0  \n",
       "2                       0.0  \n",
       "3                       0.0  \n",
       "4                       0.0  \n",
       "\n",
       "[5 rows x 22 columns]"
      ],
      "text/html": [
       "<div>\n",
       "<style scoped>\n",
       "    .dataframe tbody tr th:only-of-type {\n",
       "        vertical-align: middle;\n",
       "    }\n",
       "\n",
       "    .dataframe tbody tr th {\n",
       "        vertical-align: top;\n",
       "    }\n",
       "\n",
       "    .dataframe thead th {\n",
       "        text-align: right;\n",
       "    }\n",
       "</style>\n",
       "<table border=\"1\" class=\"dataframe\">\n",
       "  <thead>\n",
       "    <tr style=\"text-align: right;\">\n",
       "      <th></th>\n",
       "      <th>satisfaction</th>\n",
       "      <th>Customer Type</th>\n",
       "      <th>Age</th>\n",
       "      <th>Type of Travel</th>\n",
       "      <th>Class</th>\n",
       "      <th>Flight Distance</th>\n",
       "      <th>Seat comfort</th>\n",
       "      <th>Departure/Arrival time convenient</th>\n",
       "      <th>Food and drink</th>\n",
       "      <th>Gate location</th>\n",
       "      <th>...</th>\n",
       "      <th>Online support</th>\n",
       "      <th>Ease of Online booking</th>\n",
       "      <th>On-board service</th>\n",
       "      <th>Leg room service</th>\n",
       "      <th>Baggage handling</th>\n",
       "      <th>Checkin service</th>\n",
       "      <th>Cleanliness</th>\n",
       "      <th>Online boarding</th>\n",
       "      <th>Departure Delay in Minutes</th>\n",
       "      <th>Arrival Delay in Minutes</th>\n",
       "    </tr>\n",
       "  </thead>\n",
       "  <tbody>\n",
       "    <tr>\n",
       "      <th>0</th>\n",
       "      <td>satisfied</td>\n",
       "      <td>Loyal Customer</td>\n",
       "      <td>65</td>\n",
       "      <td>Personal Travel</td>\n",
       "      <td>Eco</td>\n",
       "      <td>265</td>\n",
       "      <td>0</td>\n",
       "      <td>0</td>\n",
       "      <td>0</td>\n",
       "      <td>2</td>\n",
       "      <td>...</td>\n",
       "      <td>2</td>\n",
       "      <td>3</td>\n",
       "      <td>3</td>\n",
       "      <td>0</td>\n",
       "      <td>3</td>\n",
       "      <td>5</td>\n",
       "      <td>3</td>\n",
       "      <td>2</td>\n",
       "      <td>0</td>\n",
       "      <td>0.0</td>\n",
       "    </tr>\n",
       "    <tr>\n",
       "      <th>1</th>\n",
       "      <td>satisfied</td>\n",
       "      <td>Loyal Customer</td>\n",
       "      <td>47</td>\n",
       "      <td>Personal Travel</td>\n",
       "      <td>Business</td>\n",
       "      <td>2464</td>\n",
       "      <td>0</td>\n",
       "      <td>0</td>\n",
       "      <td>0</td>\n",
       "      <td>3</td>\n",
       "      <td>...</td>\n",
       "      <td>2</td>\n",
       "      <td>3</td>\n",
       "      <td>4</td>\n",
       "      <td>4</td>\n",
       "      <td>4</td>\n",
       "      <td>2</td>\n",
       "      <td>3</td>\n",
       "      <td>2</td>\n",
       "      <td>310</td>\n",
       "      <td>305.0</td>\n",
       "    </tr>\n",
       "    <tr>\n",
       "      <th>2</th>\n",
       "      <td>satisfied</td>\n",
       "      <td>Loyal Customer</td>\n",
       "      <td>15</td>\n",
       "      <td>Personal Travel</td>\n",
       "      <td>Eco</td>\n",
       "      <td>2138</td>\n",
       "      <td>0</td>\n",
       "      <td>0</td>\n",
       "      <td>0</td>\n",
       "      <td>3</td>\n",
       "      <td>...</td>\n",
       "      <td>2</td>\n",
       "      <td>2</td>\n",
       "      <td>3</td>\n",
       "      <td>3</td>\n",
       "      <td>4</td>\n",
       "      <td>4</td>\n",
       "      <td>4</td>\n",
       "      <td>2</td>\n",
       "      <td>0</td>\n",
       "      <td>0.0</td>\n",
       "    </tr>\n",
       "    <tr>\n",
       "      <th>3</th>\n",
       "      <td>satisfied</td>\n",
       "      <td>Loyal Customer</td>\n",
       "      <td>60</td>\n",
       "      <td>Personal Travel</td>\n",
       "      <td>Eco</td>\n",
       "      <td>623</td>\n",
       "      <td>0</td>\n",
       "      <td>0</td>\n",
       "      <td>0</td>\n",
       "      <td>3</td>\n",
       "      <td>...</td>\n",
       "      <td>3</td>\n",
       "      <td>1</td>\n",
       "      <td>1</td>\n",
       "      <td>0</td>\n",
       "      <td>1</td>\n",
       "      <td>4</td>\n",
       "      <td>1</td>\n",
       "      <td>3</td>\n",
       "      <td>0</td>\n",
       "      <td>0.0</td>\n",
       "    </tr>\n",
       "    <tr>\n",
       "      <th>4</th>\n",
       "      <td>satisfied</td>\n",
       "      <td>Loyal Customer</td>\n",
       "      <td>70</td>\n",
       "      <td>Personal Travel</td>\n",
       "      <td>Eco</td>\n",
       "      <td>354</td>\n",
       "      <td>0</td>\n",
       "      <td>0</td>\n",
       "      <td>0</td>\n",
       "      <td>3</td>\n",
       "      <td>...</td>\n",
       "      <td>4</td>\n",
       "      <td>2</td>\n",
       "      <td>2</td>\n",
       "      <td>0</td>\n",
       "      <td>2</td>\n",
       "      <td>4</td>\n",
       "      <td>2</td>\n",
       "      <td>5</td>\n",
       "      <td>0</td>\n",
       "      <td>0.0</td>\n",
       "    </tr>\n",
       "  </tbody>\n",
       "</table>\n",
       "<p>5 rows × 22 columns</p>\n",
       "</div>"
      ]
     },
     "execution_count": 1,
     "metadata": {},
     "output_type": "execute_result"
    }
   ],
   "execution_count": 1
  },
  {
   "cell_type": "code",
   "id": "e7ecfe132a3cd808",
   "metadata": {
    "ExecuteTime": {
     "end_time": "2024-06-05T17:43:13.876073Z",
     "start_time": "2024-06-05T17:43:13.848610Z"
    }
   },
   "source": [
    "# Drop columns that are not needed\n",
    "df = df.drop(['Departure/Arrival time convenient', 'Gate location'], axis=1)\n",
    "\n",
    "# Show nan values\n",
    "df.isnull().sum()"
   ],
   "outputs": [
    {
     "data": {
      "text/plain": [
       "satisfaction                    0\n",
       "Customer Type                   0\n",
       "Age                             0\n",
       "Type of Travel                  0\n",
       "Class                           0\n",
       "Flight Distance                 0\n",
       "Seat comfort                    0\n",
       "Food and drink                  0\n",
       "Inflight wifi service           0\n",
       "Inflight entertainment          0\n",
       "Online support                  0\n",
       "Ease of Online booking          0\n",
       "On-board service                0\n",
       "Leg room service                0\n",
       "Baggage handling                0\n",
       "Checkin service                 0\n",
       "Cleanliness                     0\n",
       "Online boarding                 0\n",
       "Departure Delay in Minutes      0\n",
       "Arrival Delay in Minutes      393\n",
       "dtype: int64"
      ]
     },
     "execution_count": 2,
     "metadata": {},
     "output_type": "execute_result"
    }
   ],
   "execution_count": 2
  },
  {
   "cell_type": "code",
   "id": "daa891603d486cb7",
   "metadata": {
    "ExecuteTime": {
     "end_time": "2024-06-05T17:43:14.953064Z",
     "start_time": "2024-06-05T17:43:14.923909Z"
    }
   },
   "source": [
    "# Drop rows with nan values\n",
    "df = df.dropna()"
   ],
   "outputs": [],
   "execution_count": 3
  },
  {
   "cell_type": "code",
   "execution_count": 4,
   "id": "567864cc7add7481",
   "metadata": {
    "ExecuteTime": {
     "end_time": "2024-05-16T08:15:20.286002Z",
     "start_time": "2024-05-16T08:15:19.887212Z"
    }
   },
   "outputs": [
    {
     "data": {
      "text/plain": [
       "satisfaction                  0\n",
       "Customer Type                 0\n",
       "Age                           0\n",
       "Type of Travel                0\n",
       "Class                         0\n",
       "Flight Distance               0\n",
       "Seat comfort                  0\n",
       "Food and drink                0\n",
       "Inflight wifi service         0\n",
       "Inflight entertainment        0\n",
       "Online support                0\n",
       "Ease of Online booking        0\n",
       "On-board service              0\n",
       "Leg room service              0\n",
       "Baggage handling              0\n",
       "Checkin service               0\n",
       "Cleanliness                   0\n",
       "Online boarding               0\n",
       "Departure Delay in Minutes    0\n",
       "Arrival Delay in Minutes      0\n",
       "dtype: int64"
      ]
     },
     "execution_count": 4,
     "metadata": {},
     "output_type": "execute_result"
    }
   ],
   "source": [
    "# Save data to csv\n",
    "df.to_csv('Airline_customer_satisfaction.csv', index=False)\n",
    "\n",
    "# Show nan values\n",
    "df.isnull().sum()"
   ]
  },
  {
   "cell_type": "code",
   "execution_count": 5,
   "id": "ba8d280542284e46",
   "metadata": {
    "ExecuteTime": {
     "end_time": "2024-05-16T10:49:10.906712Z",
     "start_time": "2024-05-16T10:49:10.903194Z"
    }
   },
   "outputs": [
    {
     "data": {
      "text/plain": [
       "(129487, 20)"
      ]
     },
     "execution_count": 5,
     "metadata": {},
     "output_type": "execute_result"
    }
   ],
   "source": [
    "df.shape"
   ]
  },
  {
   "cell_type": "code",
   "execution_count": 6,
   "id": "46ca43ce",
   "metadata": {},
   "outputs": [
    {
     "name": "stdout",
     "output_type": "stream",
     "text": [
      "<class 'pandas.core.frame.DataFrame'>\n",
      "Index: 129487 entries, 0 to 129879\n",
      "Data columns (total 20 columns):\n",
      " #   Column                      Non-Null Count   Dtype  \n",
      "---  ------                      --------------   -----  \n",
      " 0   satisfaction                129487 non-null  object \n",
      " 1   Customer Type               129487 non-null  object \n",
      " 2   Age                         129487 non-null  int64  \n",
      " 3   Type of Travel              129487 non-null  object \n",
      " 4   Class                       129487 non-null  object \n",
      " 5   Flight Distance             129487 non-null  int64  \n",
      " 6   Seat comfort                129487 non-null  int64  \n",
      " 7   Food and drink              129487 non-null  int64  \n",
      " 8   Inflight wifi service       129487 non-null  int64  \n",
      " 9   Inflight entertainment      129487 non-null  int64  \n",
      " 10  Online support              129487 non-null  int64  \n",
      " 11  Ease of Online booking      129487 non-null  int64  \n",
      " 12  On-board service            129487 non-null  int64  \n",
      " 13  Leg room service            129487 non-null  int64  \n",
      " 14  Baggage handling            129487 non-null  int64  \n",
      " 15  Checkin service             129487 non-null  int64  \n",
      " 16  Cleanliness                 129487 non-null  int64  \n",
      " 17  Online boarding             129487 non-null  int64  \n",
      " 18  Departure Delay in Minutes  129487 non-null  int64  \n",
      " 19  Arrival Delay in Minutes    129487 non-null  float64\n",
      "dtypes: float64(1), int64(15), object(4)\n",
      "memory usage: 20.7+ MB\n"
     ]
    }
   ],
   "source": [
    "df.info()"
   ]
  },
  {
   "cell_type": "code",
   "id": "2f71c85982666675",
   "metadata": {
    "ExecuteTime": {
     "end_time": "2024-06-05T17:43:22.360856Z",
     "start_time": "2024-06-05T17:43:22.131261Z"
    }
   },
   "source": [
    "# Train test split\n",
    "from sklearn.model_selection import train_test_split\n",
    "X = df.drop('satisfaction', axis=1)\n",
    "y = df['satisfaction']\n",
    "X_train, X_test, y_train, y_test = train_test_split(X, y, test_size=0.2, random_state=42)"
   ],
   "outputs": [],
   "execution_count": 4
  },
  {
   "cell_type": "markdown",
   "id": "9537357d679274f1",
   "metadata": {},
   "source": [
    "### AutoML\n",
    "\n",
    "xxxx"
   ]
  },
  {
   "cell_type": "code",
   "execution_count": null,
   "id": "fb0ea91e8d1d1e94",
   "metadata": {},
   "outputs": [],
   "source": [
    "import autosklearn.classification\n",
    "from sklearn.metrics import accuracy_score\n",
    "\n",
    "# Initialize and fit Auto-sklearn\n",
    "automl = autosklearn.classification.AutoSklearnClassifier(time_left_for_this_task=300, per_run_time_limit=30)\n",
    "automl.fit(X_train, y_train)\n",
    "\n",
    "# Predict and evaluate\n",
    "y_pred = automl.predict(X_test)\n",
    "accuracy = accuracy_score(y_test, y_pred)\n",
    "print(\"Accuracy:\", accuracy)\n",
    "\n",
    "# Model details\n",
    "print(automl.show_models())\n",
    "print(automl.sprint_statistics())"
   ]
  },
  {
   "cell_type": "markdown",
   "id": "8b5697ce8670d4ba",
   "metadata": {},
   "source": [
    "### Decision Tree"
   ]
  },
  {
   "cell_type": "code",
   "id": "95d6b7342ac1341e",
   "metadata": {
    "ExecuteTime": {
     "end_time": "2024-06-05T17:43:26.898093Z",
     "start_time": "2024-06-05T17:43:26.784218Z"
    }
   },
   "source": [
    "from sklearn.compose import ColumnTransformer\n",
    "from sklearn.pipeline import Pipeline\n",
    "from sklearn.impute import SimpleImputer\n",
    "from sklearn.preprocessing import OneHotEncoder\n",
    "from sklearn.tree import DecisionTreeClassifier\n",
    "from sklearn.preprocessing import StandardScaler\n",
    "from sklearn.model_selection import GridSearchCV\n",
    "\n",
    "# Identify categorical and numerical features\n",
    "categorical_features = X_train.select_dtypes(include = [\"object\"]).columns.to_list()\n",
    "numerical_features = X_train.select_dtypes(include = [\"float\", \"int\"]).columns.to_list()\n",
    "\n",
    "# Create the categorical pipeline\n",
    "categorical_pipeline = Pipeline([\n",
    "    (\"imputer\", SimpleImputer(strategy=\"most_frequent\")),\n",
    "    (\"ohe\", OneHotEncoder(sparse_output=False))\n",
    "])\n",
    "\n",
    "# create numerical pipeline\n",
    "numerical_pipeline = Pipeline([\n",
    "    (\"imputer\", SimpleImputer(strategy=\"mean\")),\n",
    "    (\"scaler\", StandardScaler())\n",
    "])\n",
    "\n",
    "# Create the transformer\n",
    "transformer = ColumnTransformer([(\"cat\", categorical_pipeline, categorical_features), (\"num\", numerical_pipeline, numerical_features)], remainder='passthrough') \n",
    "\n",
    "# Create the pipeline\n",
    "pipeline_steps_dt = [(\"preprocessor\", transformer), (\"classifier\", DecisionTreeClassifier(random_state=42))]\n",
    "pipe_dt = Pipeline(pipeline_steps_dt)"
   ],
   "outputs": [],
   "execution_count": 5
  },
  {
   "cell_type": "code",
   "id": "7d5378746fd89818",
   "metadata": {
    "ExecuteTime": {
     "end_time": "2024-06-05T17:45:58.978909Z",
     "start_time": "2024-06-05T17:43:30.194839Z"
    }
   },
   "source": [
    "# Define the grid for model tuning\n",
    "param_grid = {\n",
    "    'classifier__max_depth': [None, 3, 5, 10], \n",
    "    'classifier__min_samples_split': [2, 5, 10],\n",
    "    'classifier__min_samples_leaf': [1, 2, 4],\n",
    "    'classifier__min_impurity_decrease': [0.0, 0.1, 0.2]\n",
    "}\n",
    "\n",
    "# Perform grid search\n",
    "grid = GridSearchCV(pipe_dt, param_grid, cv=5, scoring='accuracy')\n",
    "grid.fit(X_train, y_train)\n",
    "score = grid.best_score_ # best cross-validation score\n",
    "\n",
    "print(\"Best accuracy score:\", score)"
   ],
   "outputs": [
    {
     "name": "stdout",
     "output_type": "stream",
     "text": [
      "Best accuracy score: 0.9340663364720928\n"
     ]
    }
   ],
   "execution_count": 6
  },
  {
   "cell_type": "code",
   "execution_count": 12,
   "id": "bd2e252183d62d38",
   "metadata": {
    "ExecuteTime": {
     "end_time": "2024-05-16T10:51:52.173649Z",
     "start_time": "2024-05-16T10:51:52.112452Z"
    }
   },
   "outputs": [
    {
     "name": "stdout",
     "output_type": "stream",
     "text": [
      "Generalization accuracy: 0.9360568383658969\n"
     ]
    }
   ],
   "source": [
    "# Check for overfitting\n",
    "generalization_score = grid.best_estimator_.score(X_test, y_test)\n",
    "\n",
    "print(\"Generalization accuracy:\", generalization_score)"
   ]
  },
  {
   "cell_type": "code",
   "execution_count": 12,
   "id": "6c1a664ecd4e7a1d",
   "metadata": {
    "ExecuteTime": {
     "end_time": "2024-05-16T10:51:57.086414Z",
     "start_time": "2024-05-16T10:51:56.986273Z"
    }
   },
   "outputs": [
    {
     "data": {
      "text/plain": [
       "array([[11104,   717],\n",
       "       [  938, 13139]], dtype=int64)"
      ]
     },
     "execution_count": 12,
     "metadata": {},
     "output_type": "execute_result"
    }
   ],
   "source": [
    "# Also check the confusion matrix\n",
    "from sklearn.metrics import confusion_matrix\n",
    "y_pred = grid.best_estimator_.predict(X_test)\n",
    "confusion_matrix(y_test, y_pred)"
   ]
  },
  {
   "cell_type": "code",
   "execution_count": 13,
   "id": "6c8573a6f9f88e01",
   "metadata": {
    "ExecuteTime": {
     "end_time": "2024-05-16T09:01:56.535347Z",
     "start_time": "2024-05-16T09:01:55.936082Z"
    }
   },
   "outputs": [
    {
     "name": "stdout",
     "output_type": "stream",
     "text": [
      "              precision    recall  f1-score   support\n",
      "\n",
      "dissatisfied       0.92      0.94      0.93     11821\n",
      "   satisfied       0.95      0.93      0.94     14077\n",
      "\n",
      "    accuracy                           0.94     25898\n",
      "   macro avg       0.94      0.94      0.94     25898\n",
      "weighted avg       0.94      0.94      0.94     25898\n",
      "\n"
     ]
    }
   ],
   "source": [
    "# Check the classification report\n",
    "from sklearn.metrics import classification_report\n",
    "print(classification_report(y_test, y_pred))"
   ]
  },
  {
   "cell_type": "code",
   "execution_count": 14,
   "id": "637c6fcb4b3c78d9",
   "metadata": {
    "ExecuteTime": {
     "end_time": "2024-05-16T10:52:04.077618Z",
     "start_time": "2024-05-16T10:52:04.068028Z"
    }
   },
   "outputs": [
    {
     "data": {
      "text/html": [
       "<div>\n",
       "<style scoped>\n",
       "    .dataframe tbody tr th:only-of-type {\n",
       "        vertical-align: middle;\n",
       "    }\n",
       "\n",
       "    .dataframe tbody tr th {\n",
       "        vertical-align: top;\n",
       "    }\n",
       "\n",
       "    .dataframe thead th {\n",
       "        text-align: right;\n",
       "    }\n",
       "</style>\n",
       "<table border=\"1\" class=\"dataframe\">\n",
       "  <thead>\n",
       "    <tr style=\"text-align: right;\">\n",
       "      <th></th>\n",
       "      <th>importance</th>\n",
       "    </tr>\n",
       "  </thead>\n",
       "  <tbody>\n",
       "    <tr>\n",
       "      <th>Inflight entertainment</th>\n",
       "      <td>0.418670</td>\n",
       "    </tr>\n",
       "    <tr>\n",
       "      <th>Seat comfort</th>\n",
       "      <td>0.187693</td>\n",
       "    </tr>\n",
       "    <tr>\n",
       "      <th>Ease of Online booking</th>\n",
       "      <td>0.072012</td>\n",
       "    </tr>\n",
       "    <tr>\n",
       "      <th>x0_Loyal Customer</th>\n",
       "      <td>0.034334</td>\n",
       "    </tr>\n",
       "    <tr>\n",
       "      <th>Flight Distance</th>\n",
       "      <td>0.030043</td>\n",
       "    </tr>\n",
       "    <tr>\n",
       "      <th>Age</th>\n",
       "      <td>0.025309</td>\n",
       "    </tr>\n",
       "    <tr>\n",
       "      <th>x2_Business</th>\n",
       "      <td>0.022586</td>\n",
       "    </tr>\n",
       "    <tr>\n",
       "      <th>Online support</th>\n",
       "      <td>0.021715</td>\n",
       "    </tr>\n",
       "    <tr>\n",
       "      <th>Leg room service</th>\n",
       "      <td>0.021459</td>\n",
       "    </tr>\n",
       "    <tr>\n",
       "      <th>Checkin service</th>\n",
       "      <td>0.021288</td>\n",
       "    </tr>\n",
       "    <tr>\n",
       "      <th>Food and drink</th>\n",
       "      <td>0.019201</td>\n",
       "    </tr>\n",
       "    <tr>\n",
       "      <th>Baggage handling</th>\n",
       "      <td>0.017709</td>\n",
       "    </tr>\n",
       "    <tr>\n",
       "      <th>Cleanliness</th>\n",
       "      <td>0.017116</td>\n",
       "    </tr>\n",
       "    <tr>\n",
       "      <th>Online boarding</th>\n",
       "      <td>0.013732</td>\n",
       "    </tr>\n",
       "    <tr>\n",
       "      <th>x1_Business travel</th>\n",
       "      <td>0.013535</td>\n",
       "    </tr>\n",
       "    <tr>\n",
       "      <th>Inflight wifi service</th>\n",
       "      <td>0.012354</td>\n",
       "    </tr>\n",
       "    <tr>\n",
       "      <th>Departure Delay in Minutes</th>\n",
       "      <td>0.011100</td>\n",
       "    </tr>\n",
       "    <tr>\n",
       "      <th>x1_Personal Travel</th>\n",
       "      <td>0.010710</td>\n",
       "    </tr>\n",
       "    <tr>\n",
       "      <th>Arrival Delay in Minutes</th>\n",
       "      <td>0.010405</td>\n",
       "    </tr>\n",
       "    <tr>\n",
       "      <th>On-board service</th>\n",
       "      <td>0.010116</td>\n",
       "    </tr>\n",
       "    <tr>\n",
       "      <th>x0_disloyal Customer</th>\n",
       "      <td>0.007994</td>\n",
       "    </tr>\n",
       "    <tr>\n",
       "      <th>x2_Eco</th>\n",
       "      <td>0.000476</td>\n",
       "    </tr>\n",
       "    <tr>\n",
       "      <th>x2_Eco Plus</th>\n",
       "      <td>0.000444</td>\n",
       "    </tr>\n",
       "  </tbody>\n",
       "</table>\n",
       "</div>"
      ],
      "text/plain": [
       "                            importance\n",
       "Inflight entertainment        0.418670\n",
       "Seat comfort                  0.187693\n",
       "Ease of Online booking        0.072012\n",
       "x0_Loyal Customer             0.034334\n",
       "Flight Distance               0.030043\n",
       "Age                           0.025309\n",
       "x2_Business                   0.022586\n",
       "Online support                0.021715\n",
       "Leg room service              0.021459\n",
       "Checkin service               0.021288\n",
       "Food and drink                0.019201\n",
       "Baggage handling              0.017709\n",
       "Cleanliness                   0.017116\n",
       "Online boarding               0.013732\n",
       "x1_Business travel            0.013535\n",
       "Inflight wifi service         0.012354\n",
       "Departure Delay in Minutes    0.011100\n",
       "x1_Personal Travel            0.010710\n",
       "Arrival Delay in Minutes      0.010405\n",
       "On-board service              0.010116\n",
       "x0_disloyal Customer          0.007994\n",
       "x2_Eco                        0.000476\n",
       "x2_Eco Plus                   0.000444"
      ]
     },
     "execution_count": 14,
     "metadata": {},
     "output_type": "execute_result"
    }
   ],
   "source": [
    "# Print the feature importances\n",
    "importances = grid.best_estimator_.named_steps['classifier'].feature_importances_\n",
    "features = grid.best_estimator_.named_steps['preprocessor'].transformers_[0][1].named_steps['ohe'].get_feature_names_out()\n",
    "features = list(features) + numerical_features\n",
    "pd.DataFrame(importances, index=features, columns=['importance']).sort_values(by='importance', ascending=False)\n"
   ]
  },
  {
   "cell_type": "code",
   "execution_count": 15,
   "id": "3a84b1dc6ac6939f",
   "metadata": {
    "ExecuteTime": {
     "end_time": "2024-05-16T10:52:09.008253Z",
     "start_time": "2024-05-16T10:52:09.001578Z"
    }
   },
   "outputs": [
    {
     "data": {
      "text/plain": [
       "['decision_tree.pkl']"
      ]
     },
     "execution_count": 15,
     "metadata": {},
     "output_type": "execute_result"
    }
   ],
   "source": [
    " # Save the model\n",
    "import joblib\n",
    "joblib.dump(grid.best_estimator_, 'decision_tree.pkl')"
   ]
  },
  {
   "cell_type": "markdown",
   "id": "4d49f0e7",
   "metadata": {},
   "source": [
    "### Logistic Regression"
   ]
  },
  {
   "cell_type": "code",
   "id": "89feed29",
   "metadata": {
    "ExecuteTime": {
     "end_time": "2024-06-05T17:46:23.653267Z",
     "start_time": "2024-06-05T17:46:23.649616Z"
    }
   },
   "source": [
    "from sklearn.linear_model import LogisticRegression\n",
    "\n",
    "\n",
    "# Create the pipeline\n",
    "pipeline_steps_lr = [(\"preprocessor\", transformer), (\"classifier\", LogisticRegression(random_state=42))]\n",
    "pipe_lr = Pipeline(pipeline_steps_lr)"
   ],
   "outputs": [],
   "execution_count": 7
  },
  {
   "cell_type": "code",
   "id": "99e28bca",
   "metadata": {
    "ExecuteTime": {
     "end_time": "2024-06-05T17:48:18.383108Z",
     "start_time": "2024-06-05T17:46:24.296170Z"
    }
   },
   "source": [
    "# define the grid for logistic regression model tuning\n",
    "param_grid_lr = {\n",
    "    'classifier__C': [0.01, 0.1, 1, 10, 100],\n",
    "    'classifier__max_iter': [100, 200, 300],\n",
    "    'classifier__solver': ['newton-cg', 'lbfgs', 'liblinear'],\n",
    "    'classifier__penalty': ['l2']  # Note: 'l2' penalty is compatible with these solvers\n",
    "}\n",
    "\n",
    "# Perform grid search\n",
    "grid_lr = GridSearchCV(pipe_lr, param_grid_lr, cv=5, scoring='accuracy')\n",
    "grid_lr.fit(X_train, y_train)\n",
    "score_lr = grid_lr.best_score_ # best cross-validation score"
   ],
   "outputs": [],
   "execution_count": 8
  },
  {
   "cell_type": "code",
   "id": "dead8d18",
   "metadata": {
    "ExecuteTime": {
     "end_time": "2024-06-05T17:52:07.748805Z",
     "start_time": "2024-06-05T17:52:07.580664Z"
    }
   },
   "source": [
    "# evaluate the model\n",
    "generalization_score_lr = grid_lr.best_estimator_.score(X_test, y_test)\n",
    "\n",
    "print(\"Best accuracy score:\", score_lr)\n",
    "print(\"Generalization accuracy:\", generalization_score_lr)"
   ],
   "outputs": [
    {
     "name": "stdout",
     "output_type": "stream",
     "text": [
      "Best accuracy score: 0.8263715217689857\n",
      "Generalization accuracy: 0.8255077612170824\n"
     ]
    }
   ],
   "execution_count": 9
  },
  {
   "cell_type": "markdown",
   "id": "2ba0ece6",
   "metadata": {},
   "source": [
    "### XGBoost"
   ]
  },
  {
   "cell_type": "code",
   "execution_count": 28,
   "id": "2e0069bf",
   "metadata": {},
   "outputs": [],
   "source": [
    "# import librarie for xgboost\n",
    "import xgboost as xgb\n",
    "\n",
    "# transform target variable in \"0\" and \"1\" for xgboost \n",
    "y_train_xgb = y_train.map({'dissatisfied': 0, 'satisfied': 1})\n",
    "y_test_xgb = y_test.map({'dissatisfied': 0, 'satisfied': 1})\n",
    "\n",
    "# Create the pipeline\n",
    "pipeline_steps_xgb = [(\"preprocessor\", transformer), (\"classifier\", xgb.XGBClassifier(random_state=42))]\n",
    "pipe_xgb = Pipeline(pipeline_steps_xgb)"
   ]
  },
  {
   "cell_type": "code",
   "execution_count": 31,
   "id": "1597ccc9",
   "metadata": {},
   "outputs": [],
   "source": [
    "# define the grid for xgboost model tuning\n",
    "param_grid_xgb = {\n",
    "    'classifier__max_depth': [3, 5, 7],\n",
    "    'classifier__n_estimators': [50, 100, 150],\n",
    "    'classifier__learning_rate': [0.1, 0.01, 0.001]\n",
    "}\n",
    "\n",
    "# Perform grid search\n",
    "grid_xgb = GridSearchCV(pipe_xgb, param_grid_xgb, cv=5, scoring='accuracy')\n",
    "grid_xgb.fit(X_train, y_train_xgb)\n",
    "score_xgb = grid_xgb.best_score_ # best cross-validation score"
   ]
  },
  {
   "cell_type": "code",
   "execution_count": 32,
   "id": "fc21aa53",
   "metadata": {},
   "outputs": [
    {
     "name": "stdout",
     "output_type": "stream",
     "text": [
      "Best accuracy score: 0.9499367475221719\n",
      "Generalization accuracy: 0.9527762761603212\n"
     ]
    }
   ],
   "source": [
    "# evaluate the model\n",
    "generalization_score_xgb = grid_xgb.best_estimator_.score(X_test, y_test_xgb)\n",
    "\n",
    "print(\"Best accuracy score:\", score_xgb)\n",
    "print(\"Generalization accuracy:\", generalization_score_xgb)"
   ]
  },
  {
   "cell_type": "markdown",
   "id": "b1e9b8d7",
   "metadata": {},
   "source": [
    "### Support Vector Classifier"
   ]
  },
  {
   "cell_type": "code",
   "id": "08a63688",
   "metadata": {
    "ExecuteTime": {
     "end_time": "2024-06-05T17:52:17.309809Z",
     "start_time": "2024-06-05T17:52:17.306462Z"
    }
   },
   "source": [
    "from sklearn.svm import SVC\n",
    "\n",
    "# Create the pipeline\n",
    "pipeline_steps_svm = [(\"preprocessor\", transformer), (\"classifier\", SVC(random_state=42))]\n",
    "pipe_svm = Pipeline(pipeline_steps_svm)"
   ],
   "outputs": [],
   "execution_count": 10
  },
  {
   "cell_type": "code",
   "id": "017cf254",
   "metadata": {
    "jupyter": {
     "is_executing": true
    },
    "ExecuteTime": {
     "start_time": "2024-06-05T18:12:01.347323Z"
    }
   },
   "source": [
    "param_grid_svm = {\n",
    "    'classifier__C': [0.1, 1, 10],\n",
    "    #'classifier__kernel': ['linear', 'rbf'],  # Focus on the most common kernels\n",
    "    #'classifier__gamma': ['scale']  # Use the most commonly used value\n",
    "}\n",
    "\n",
    "# Perform grid search\n",
    "grid_svm = GridSearchCV(pipe_svm, param_grid_svm, cv=3, scoring='accuracy', n_jobs=-1)\n",
    "grid_svm.fit(X_train, y_train)\n",
    "score_svm = grid_svm.best_score_  # best cross-validation score"
   ],
   "outputs": [],
   "execution_count": null
  },
  {
   "cell_type": "code",
   "id": "c9a2734c",
   "metadata": {
    "ExecuteTime": {
     "end_time": "2024-06-05T18:11:16.277519Z",
     "start_time": "2024-06-05T18:11:16.273555Z"
    }
   },
   "source": [
    "# evaluate the model\n",
    "\n",
    "print(\"Best accuracy score:\", score_svm)"
   ],
   "outputs": [
    {
     "name": "stdout",
     "output_type": "stream",
     "text": [
      "Best accuracy score: 0.9439901894821907\n"
     ]
    }
   ],
   "execution_count": 13
  },
  {
   "metadata": {},
   "cell_type": "code",
   "outputs": [],
   "execution_count": null,
   "source": "",
   "id": "2bed82a08d19a7e9"
  }
 ],
 "metadata": {
  "kernelspec": {
   "display_name": "Python 3",
   "language": "python",
   "name": "python3"
  },
  "language_info": {
   "codemirror_mode": {
    "name": "ipython",
    "version": 3
   },
   "file_extension": ".py",
   "mimetype": "text/x-python",
   "name": "python",
   "nbconvert_exporter": "python",
   "pygments_lexer": "ipython3",
   "version": "3.12.3"
  }
 },
 "nbformat": 4,
 "nbformat_minor": 5
}
