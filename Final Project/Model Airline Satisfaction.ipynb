{
 "cells": [
  {
   "cell_type": "code",
   "id": "initial_id",
   "metadata": {
    "collapsed": true,
    "ExecuteTime": {
     "end_time": "2024-05-17T14:00:58.809496Z",
     "start_time": "2024-05-17T14:00:58.364881Z"
    }
   },
   "source": [
    "import pandas as pd\n",
    "# Import csv file\n",
    "df = pd.read_csv('./data/Airline_customer_satisfaction_original.csv')\n",
    "df.head()"
   ],
   "outputs": [
    {
     "data": {
      "text/plain": [
       "  satisfaction   Customer Type  Age   Type of Travel     Class  \\\n",
       "0    satisfied  Loyal Customer   65  Personal Travel       Eco   \n",
       "1    satisfied  Loyal Customer   47  Personal Travel  Business   \n",
       "2    satisfied  Loyal Customer   15  Personal Travel       Eco   \n",
       "3    satisfied  Loyal Customer   60  Personal Travel       Eco   \n",
       "4    satisfied  Loyal Customer   70  Personal Travel       Eco   \n",
       "\n",
       "   Flight Distance  Seat comfort  Departure/Arrival time convenient  \\\n",
       "0              265             0                                  0   \n",
       "1             2464             0                                  0   \n",
       "2             2138             0                                  0   \n",
       "3              623             0                                  0   \n",
       "4              354             0                                  0   \n",
       "\n",
       "   Food and drink  Gate location  ...  Online support  Ease of Online booking  \\\n",
       "0               0              2  ...               2                       3   \n",
       "1               0              3  ...               2                       3   \n",
       "2               0              3  ...               2                       2   \n",
       "3               0              3  ...               3                       1   \n",
       "4               0              3  ...               4                       2   \n",
       "\n",
       "   On-board service  Leg room service  Baggage handling  Checkin service  \\\n",
       "0                 3                 0                 3                5   \n",
       "1                 4                 4                 4                2   \n",
       "2                 3                 3                 4                4   \n",
       "3                 1                 0                 1                4   \n",
       "4                 2                 0                 2                4   \n",
       "\n",
       "   Cleanliness  Online boarding  Departure Delay in Minutes  \\\n",
       "0            3                2                           0   \n",
       "1            3                2                         310   \n",
       "2            4                2                           0   \n",
       "3            1                3                           0   \n",
       "4            2                5                           0   \n",
       "\n",
       "   Arrival Delay in Minutes  \n",
       "0                       0.0  \n",
       "1                     305.0  \n",
       "2                       0.0  \n",
       "3                       0.0  \n",
       "4                       0.0  \n",
       "\n",
       "[5 rows x 22 columns]"
      ],
      "text/html": [
       "<div>\n",
       "<style scoped>\n",
       "    .dataframe tbody tr th:only-of-type {\n",
       "        vertical-align: middle;\n",
       "    }\n",
       "\n",
       "    .dataframe tbody tr th {\n",
       "        vertical-align: top;\n",
       "    }\n",
       "\n",
       "    .dataframe thead th {\n",
       "        text-align: right;\n",
       "    }\n",
       "</style>\n",
       "<table border=\"1\" class=\"dataframe\">\n",
       "  <thead>\n",
       "    <tr style=\"text-align: right;\">\n",
       "      <th></th>\n",
       "      <th>satisfaction</th>\n",
       "      <th>Customer Type</th>\n",
       "      <th>Age</th>\n",
       "      <th>Type of Travel</th>\n",
       "      <th>Class</th>\n",
       "      <th>Flight Distance</th>\n",
       "      <th>Seat comfort</th>\n",
       "      <th>Departure/Arrival time convenient</th>\n",
       "      <th>Food and drink</th>\n",
       "      <th>Gate location</th>\n",
       "      <th>...</th>\n",
       "      <th>Online support</th>\n",
       "      <th>Ease of Online booking</th>\n",
       "      <th>On-board service</th>\n",
       "      <th>Leg room service</th>\n",
       "      <th>Baggage handling</th>\n",
       "      <th>Checkin service</th>\n",
       "      <th>Cleanliness</th>\n",
       "      <th>Online boarding</th>\n",
       "      <th>Departure Delay in Minutes</th>\n",
       "      <th>Arrival Delay in Minutes</th>\n",
       "    </tr>\n",
       "  </thead>\n",
       "  <tbody>\n",
       "    <tr>\n",
       "      <th>0</th>\n",
       "      <td>satisfied</td>\n",
       "      <td>Loyal Customer</td>\n",
       "      <td>65</td>\n",
       "      <td>Personal Travel</td>\n",
       "      <td>Eco</td>\n",
       "      <td>265</td>\n",
       "      <td>0</td>\n",
       "      <td>0</td>\n",
       "      <td>0</td>\n",
       "      <td>2</td>\n",
       "      <td>...</td>\n",
       "      <td>2</td>\n",
       "      <td>3</td>\n",
       "      <td>3</td>\n",
       "      <td>0</td>\n",
       "      <td>3</td>\n",
       "      <td>5</td>\n",
       "      <td>3</td>\n",
       "      <td>2</td>\n",
       "      <td>0</td>\n",
       "      <td>0.0</td>\n",
       "    </tr>\n",
       "    <tr>\n",
       "      <th>1</th>\n",
       "      <td>satisfied</td>\n",
       "      <td>Loyal Customer</td>\n",
       "      <td>47</td>\n",
       "      <td>Personal Travel</td>\n",
       "      <td>Business</td>\n",
       "      <td>2464</td>\n",
       "      <td>0</td>\n",
       "      <td>0</td>\n",
       "      <td>0</td>\n",
       "      <td>3</td>\n",
       "      <td>...</td>\n",
       "      <td>2</td>\n",
       "      <td>3</td>\n",
       "      <td>4</td>\n",
       "      <td>4</td>\n",
       "      <td>4</td>\n",
       "      <td>2</td>\n",
       "      <td>3</td>\n",
       "      <td>2</td>\n",
       "      <td>310</td>\n",
       "      <td>305.0</td>\n",
       "    </tr>\n",
       "    <tr>\n",
       "      <th>2</th>\n",
       "      <td>satisfied</td>\n",
       "      <td>Loyal Customer</td>\n",
       "      <td>15</td>\n",
       "      <td>Personal Travel</td>\n",
       "      <td>Eco</td>\n",
       "      <td>2138</td>\n",
       "      <td>0</td>\n",
       "      <td>0</td>\n",
       "      <td>0</td>\n",
       "      <td>3</td>\n",
       "      <td>...</td>\n",
       "      <td>2</td>\n",
       "      <td>2</td>\n",
       "      <td>3</td>\n",
       "      <td>3</td>\n",
       "      <td>4</td>\n",
       "      <td>4</td>\n",
       "      <td>4</td>\n",
       "      <td>2</td>\n",
       "      <td>0</td>\n",
       "      <td>0.0</td>\n",
       "    </tr>\n",
       "    <tr>\n",
       "      <th>3</th>\n",
       "      <td>satisfied</td>\n",
       "      <td>Loyal Customer</td>\n",
       "      <td>60</td>\n",
       "      <td>Personal Travel</td>\n",
       "      <td>Eco</td>\n",
       "      <td>623</td>\n",
       "      <td>0</td>\n",
       "      <td>0</td>\n",
       "      <td>0</td>\n",
       "      <td>3</td>\n",
       "      <td>...</td>\n",
       "      <td>3</td>\n",
       "      <td>1</td>\n",
       "      <td>1</td>\n",
       "      <td>0</td>\n",
       "      <td>1</td>\n",
       "      <td>4</td>\n",
       "      <td>1</td>\n",
       "      <td>3</td>\n",
       "      <td>0</td>\n",
       "      <td>0.0</td>\n",
       "    </tr>\n",
       "    <tr>\n",
       "      <th>4</th>\n",
       "      <td>satisfied</td>\n",
       "      <td>Loyal Customer</td>\n",
       "      <td>70</td>\n",
       "      <td>Personal Travel</td>\n",
       "      <td>Eco</td>\n",
       "      <td>354</td>\n",
       "      <td>0</td>\n",
       "      <td>0</td>\n",
       "      <td>0</td>\n",
       "      <td>3</td>\n",
       "      <td>...</td>\n",
       "      <td>4</td>\n",
       "      <td>2</td>\n",
       "      <td>2</td>\n",
       "      <td>0</td>\n",
       "      <td>2</td>\n",
       "      <td>4</td>\n",
       "      <td>2</td>\n",
       "      <td>5</td>\n",
       "      <td>0</td>\n",
       "      <td>0.0</td>\n",
       "    </tr>\n",
       "  </tbody>\n",
       "</table>\n",
       "<p>5 rows × 22 columns</p>\n",
       "</div>"
      ]
     },
     "execution_count": 1,
     "metadata": {},
     "output_type": "execute_result"
    }
   ],
   "execution_count": 1
  },
  {
   "metadata": {
    "ExecuteTime": {
     "end_time": "2024-05-17T14:01:06.362766Z",
     "start_time": "2024-05-17T14:01:06.333243Z"
    }
   },
   "cell_type": "code",
   "source": [
    "# Drop columns that are not needed\n",
    "df = df.drop(['Departure/Arrival time convenient', 'Gate location'], axis=1)\n",
    "\n",
    "# Show nan values\n",
    "df.isnull().sum()"
   ],
   "id": "e7ecfe132a3cd808",
   "outputs": [
    {
     "data": {
      "text/plain": [
       "satisfaction                    0\n",
       "Customer Type                   0\n",
       "Age                             0\n",
       "Type of Travel                  0\n",
       "Class                           0\n",
       "Flight Distance                 0\n",
       "Seat comfort                    0\n",
       "Food and drink                  0\n",
       "Inflight wifi service           0\n",
       "Inflight entertainment          0\n",
       "Online support                  0\n",
       "Ease of Online booking          0\n",
       "On-board service                0\n",
       "Leg room service                0\n",
       "Baggage handling                0\n",
       "Checkin service                 0\n",
       "Cleanliness                     0\n",
       "Online boarding                 0\n",
       "Departure Delay in Minutes      0\n",
       "Arrival Delay in Minutes      393\n",
       "dtype: int64"
      ]
     },
     "execution_count": 2,
     "metadata": {},
     "output_type": "execute_result"
    }
   ],
   "execution_count": 2
  },
  {
   "metadata": {
    "ExecuteTime": {
     "end_time": "2024-05-16T08:15:17.126436Z",
     "start_time": "2024-05-16T08:15:17.097104Z"
    }
   },
   "cell_type": "code",
   "source": [
    "# Drop rows with nan values\n",
    "df = df.dropna()"
   ],
   "id": "daa891603d486cb7",
   "outputs": [],
   "execution_count": 3
  },
  {
   "metadata": {
    "ExecuteTime": {
     "end_time": "2024-05-16T08:15:20.286002Z",
     "start_time": "2024-05-16T08:15:19.887212Z"
    }
   },
   "cell_type": "code",
   "source": [
    "# Save data to csv\n",
    "df.to_csv('Airline_customer_satisfaction.csv', index=False)\n",
    "\n",
    "# Show nan values\n",
    "df.isnull().sum()"
   ],
   "id": "567864cc7add7481",
   "outputs": [
    {
     "data": {
      "text/plain": [
       "satisfaction                  0\n",
       "Customer Type                 0\n",
       "Age                           0\n",
       "Type of Travel                0\n",
       "Class                         0\n",
       "Flight Distance               0\n",
       "Seat comfort                  0\n",
       "Food and drink                0\n",
       "Inflight wifi service         0\n",
       "Inflight entertainment        0\n",
       "Online support                0\n",
       "Ease of Online booking        0\n",
       "On-board service              0\n",
       "Leg room service              0\n",
       "Baggage handling              0\n",
       "Checkin service               0\n",
       "Cleanliness                   0\n",
       "Online boarding               0\n",
       "Departure Delay in Minutes    0\n",
       "Arrival Delay in Minutes      0\n",
       "dtype: int64"
      ]
     },
     "execution_count": 4,
     "metadata": {},
     "output_type": "execute_result"
    }
   ],
   "execution_count": 4
  },
  {
   "metadata": {
    "ExecuteTime": {
     "end_time": "2024-05-16T10:49:10.906712Z",
     "start_time": "2024-05-16T10:49:10.903194Z"
    }
   },
   "cell_type": "code",
   "source": "df.shape",
   "id": "ba8d280542284e46",
   "outputs": [
    {
     "data": {
      "text/plain": [
       "(129487, 20)"
      ]
     },
     "execution_count": 22,
     "metadata": {},
     "output_type": "execute_result"
    }
   ],
   "execution_count": 22
  },
  {
   "metadata": {
    "ExecuteTime": {
     "end_time": "2024-05-16T10:49:14.318091Z",
     "start_time": "2024-05-16T10:49:14.277965Z"
    }
   },
   "cell_type": "code",
   "source": [
    "# Train test split\n",
    "from sklearn.model_selection import train_test_split\n",
    "X = df.drop('satisfaction', axis=1)\n",
    "y = df['satisfaction']\n",
    "X_train, X_test, y_train, y_test = train_test_split(X, y, test_size=0.2, random_state=42)"
   ],
   "id": "2f71c85982666675",
   "outputs": [],
   "execution_count": 23
  },
  {
   "metadata": {
    "ExecuteTime": {
     "end_time": "2024-05-16T10:49:16.070141Z",
     "start_time": "2024-05-16T10:49:16.059512Z"
    }
   },
   "cell_type": "code",
   "source": [
    "from sklearn.compose import ColumnTransformer\n",
    "from sklearn.pipeline import Pipeline\n",
    "from sklearn.impute import SimpleImputer\n",
    "from sklearn.preprocessing import OneHotEncoder\n",
    "from sklearn.tree import DecisionTreeClassifier\n",
    "\n",
    "# Identify categorical and numerical features\n",
    "categorical_features = X_train.select_dtypes(include = [\"object\"]).columns.to_list()\n",
    "numerical_features = X_train.select_dtypes(include = [\"float\", \"int\"]).columns.to_list()\n",
    "\n",
    "# Create the categorical pipeline\n",
    "categorical_pipeline = Pipeline([\n",
    "    (\"imputer\", SimpleImputer(strategy=\"most_frequent\")),\n",
    "    (\"ohe\", OneHotEncoder(sparse_output=False))\n",
    "])\n",
    "\n",
    "# No scaling for numerical pipeline as it's not necessary for decision trees\n",
    "numerical_pipeline = Pipeline([\n",
    "    (\"imputer\", SimpleImputer(strategy=\"mean\"))\n",
    "])\n",
    "\n",
    "# Create the transformer\n",
    "transformer = ColumnTransformer([(\"cat\", categorical_pipeline, categorical_features), (\"num\", numerical_pipeline, numerical_features)], remainder='passthrough') \n",
    "\n",
    "# Create the pipeline\n",
    "pipeline_steps = [(\"preprocessor\", transformer), (\"classifier\", DecisionTreeClassifier(random_state=42))]\n",
    "pipe = Pipeline(pipeline_steps)"
   ],
   "id": "95d6b7342ac1341e",
   "outputs": [],
   "execution_count": 24
  },
  {
   "metadata": {
    "ExecuteTime": {
     "end_time": "2024-05-16T10:51:46.602820Z",
     "start_time": "2024-05-16T10:49:21.450883Z"
    }
   },
   "cell_type": "code",
   "source": [
    "from sklearn.model_selection import GridSearchCV\n",
    "\n",
    "# Define the grid for model tuning\n",
    "param_grid = {\n",
    "    'classifier__max_depth': [None, 3, 5, 10], \n",
    "    'classifier__min_samples_split': [2, 5, 10],\n",
    "    'classifier__min_samples_leaf': [1, 2, 4],\n",
    "    'classifier__min_impurity_decrease': [0.0, 0.1, 0.2]\n",
    "}\n",
    "\n",
    "# Perform grid search\n",
    "grid = GridSearchCV(pipe, param_grid, cv=5, scoring='accuracy')\n",
    "grid.fit(X_train, y_train)\n",
    "score = grid.best_score_ # best cross-validation score\n",
    "\n",
    "print(\"Best accuracy score:\", score)"
   ],
   "id": "7d5378746fd89818",
   "outputs": [
    {
     "name": "stdout",
     "output_type": "stream",
     "text": [
      "Best accuracy score: 0.9340952981943499\n"
     ]
    }
   ],
   "execution_count": 25
  },
  {
   "metadata": {
    "ExecuteTime": {
     "end_time": "2024-05-16T10:51:52.173649Z",
     "start_time": "2024-05-16T10:51:52.112452Z"
    }
   },
   "cell_type": "code",
   "source": [
    "# Check for overfitting\n",
    "generalization_score = grid.best_estimator_.score(X_test, y_test)\n",
    "\n",
    "print(\"Generalization accuracy:\", generalization_score)"
   ],
   "id": "bd2e252183d62d38",
   "outputs": [
    {
     "name": "stdout",
     "output_type": "stream",
     "text": [
      "Generalization accuracy: 0.9362112904471388\n"
     ]
    }
   ],
   "execution_count": 26
  },
  {
   "metadata": {
    "ExecuteTime": {
     "end_time": "2024-05-16T10:51:57.086414Z",
     "start_time": "2024-05-16T10:51:56.986273Z"
    }
   },
   "cell_type": "code",
   "source": [
    "# Also check the confusion matrix\n",
    "from sklearn.metrics import confusion_matrix\n",
    "y_pred = grid.best_estimator_.predict(X_test)\n",
    "confusion_matrix(y_test, y_pred)"
   ],
   "id": "6c1a664ecd4e7a1d",
   "outputs": [
    {
     "data": {
      "text/plain": [
       "array([[11106,   715],\n",
       "       [  937, 13140]])"
      ]
     },
     "execution_count": 27,
     "metadata": {},
     "output_type": "execute_result"
    }
   ],
   "execution_count": 27
  },
  {
   "metadata": {
    "ExecuteTime": {
     "end_time": "2024-05-16T09:01:56.535347Z",
     "start_time": "2024-05-16T09:01:55.936082Z"
    }
   },
   "cell_type": "code",
   "source": [
    "# Check the classification report\n",
    "from sklearn.metrics import classification_report\n",
    "print(classification_report(y_test, y_pred))"
   ],
   "id": "6c8573a6f9f88e01",
   "outputs": [
    {
     "name": "stdout",
     "output_type": "stream",
     "text": [
      "              precision    recall  f1-score   support\n",
      "\n",
      "dissatisfied       0.92      0.94      0.93     11821\n",
      "   satisfied       0.95      0.93      0.94     14077\n",
      "\n",
      "    accuracy                           0.94     25898\n",
      "   macro avg       0.94      0.94      0.94     25898\n",
      "weighted avg       0.94      0.94      0.94     25898\n",
      "\n"
     ]
    }
   ],
   "execution_count": 16
  },
  {
   "metadata": {
    "ExecuteTime": {
     "end_time": "2024-05-16T10:52:04.077618Z",
     "start_time": "2024-05-16T10:52:04.068028Z"
    }
   },
   "cell_type": "code",
   "source": [
    "# Print the feature importances\n",
    "importances = grid.best_estimator_.named_steps['classifier'].feature_importances_\n",
    "features = grid.best_estimator_.named_steps['preprocessor'].transformers_[0][1].named_steps['ohe'].get_feature_names_out()\n",
    "features = list(features) + numerical_features\n",
    "pd.DataFrame(importances, index=features, columns=['importance']).sort_values(by='importance', ascending=False)\n"
   ],
   "id": "637c6fcb4b3c78d9",
   "outputs": [
    {
     "data": {
      "text/plain": [
       "                            importance\n",
       "Inflight entertainment        0.418534\n",
       "Seat comfort                  0.187478\n",
       "Ease of Online booking        0.072075\n",
       "x0_disloyal Customer          0.034900\n",
       "Flight Distance               0.030039\n",
       "Age                           0.025055\n",
       "x2_Business                   0.022480\n",
       "Online support                0.021539\n",
       "Checkin service               0.021430\n",
       "Leg room service              0.021214\n",
       "Food and drink                0.019648\n",
       "Baggage handling              0.017674\n",
       "Cleanliness                   0.016897\n",
       "Online boarding               0.013738\n",
       "x1_Personal Travel            0.012630\n",
       "Inflight wifi service         0.012240\n",
       "x1_Business travel            0.011815\n",
       "Departure Delay in Minutes    0.011554\n",
       "On-board service              0.010514\n",
       "Arrival Delay in Minutes      0.010253\n",
       "x0_Loyal Customer             0.007276\n",
       "x2_Eco                        0.000565\n",
       "x2_Eco Plus                   0.000451"
      ],
      "text/html": [
       "<div>\n",
       "<style scoped>\n",
       "    .dataframe tbody tr th:only-of-type {\n",
       "        vertical-align: middle;\n",
       "    }\n",
       "\n",
       "    .dataframe tbody tr th {\n",
       "        vertical-align: top;\n",
       "    }\n",
       "\n",
       "    .dataframe thead th {\n",
       "        text-align: right;\n",
       "    }\n",
       "</style>\n",
       "<table border=\"1\" class=\"dataframe\">\n",
       "  <thead>\n",
       "    <tr style=\"text-align: right;\">\n",
       "      <th></th>\n",
       "      <th>importance</th>\n",
       "    </tr>\n",
       "  </thead>\n",
       "  <tbody>\n",
       "    <tr>\n",
       "      <th>Inflight entertainment</th>\n",
       "      <td>0.418534</td>\n",
       "    </tr>\n",
       "    <tr>\n",
       "      <th>Seat comfort</th>\n",
       "      <td>0.187478</td>\n",
       "    </tr>\n",
       "    <tr>\n",
       "      <th>Ease of Online booking</th>\n",
       "      <td>0.072075</td>\n",
       "    </tr>\n",
       "    <tr>\n",
       "      <th>x0_disloyal Customer</th>\n",
       "      <td>0.034900</td>\n",
       "    </tr>\n",
       "    <tr>\n",
       "      <th>Flight Distance</th>\n",
       "      <td>0.030039</td>\n",
       "    </tr>\n",
       "    <tr>\n",
       "      <th>Age</th>\n",
       "      <td>0.025055</td>\n",
       "    </tr>\n",
       "    <tr>\n",
       "      <th>x2_Business</th>\n",
       "      <td>0.022480</td>\n",
       "    </tr>\n",
       "    <tr>\n",
       "      <th>Online support</th>\n",
       "      <td>0.021539</td>\n",
       "    </tr>\n",
       "    <tr>\n",
       "      <th>Checkin service</th>\n",
       "      <td>0.021430</td>\n",
       "    </tr>\n",
       "    <tr>\n",
       "      <th>Leg room service</th>\n",
       "      <td>0.021214</td>\n",
       "    </tr>\n",
       "    <tr>\n",
       "      <th>Food and drink</th>\n",
       "      <td>0.019648</td>\n",
       "    </tr>\n",
       "    <tr>\n",
       "      <th>Baggage handling</th>\n",
       "      <td>0.017674</td>\n",
       "    </tr>\n",
       "    <tr>\n",
       "      <th>Cleanliness</th>\n",
       "      <td>0.016897</td>\n",
       "    </tr>\n",
       "    <tr>\n",
       "      <th>Online boarding</th>\n",
       "      <td>0.013738</td>\n",
       "    </tr>\n",
       "    <tr>\n",
       "      <th>x1_Personal Travel</th>\n",
       "      <td>0.012630</td>\n",
       "    </tr>\n",
       "    <tr>\n",
       "      <th>Inflight wifi service</th>\n",
       "      <td>0.012240</td>\n",
       "    </tr>\n",
       "    <tr>\n",
       "      <th>x1_Business travel</th>\n",
       "      <td>0.011815</td>\n",
       "    </tr>\n",
       "    <tr>\n",
       "      <th>Departure Delay in Minutes</th>\n",
       "      <td>0.011554</td>\n",
       "    </tr>\n",
       "    <tr>\n",
       "      <th>On-board service</th>\n",
       "      <td>0.010514</td>\n",
       "    </tr>\n",
       "    <tr>\n",
       "      <th>Arrival Delay in Minutes</th>\n",
       "      <td>0.010253</td>\n",
       "    </tr>\n",
       "    <tr>\n",
       "      <th>x0_Loyal Customer</th>\n",
       "      <td>0.007276</td>\n",
       "    </tr>\n",
       "    <tr>\n",
       "      <th>x2_Eco</th>\n",
       "      <td>0.000565</td>\n",
       "    </tr>\n",
       "    <tr>\n",
       "      <th>x2_Eco Plus</th>\n",
       "      <td>0.000451</td>\n",
       "    </tr>\n",
       "  </tbody>\n",
       "</table>\n",
       "</div>"
      ]
     },
     "execution_count": 28,
     "metadata": {},
     "output_type": "execute_result"
    }
   ],
   "execution_count": 28
  },
  {
   "metadata": {
    "ExecuteTime": {
     "end_time": "2024-05-16T10:52:09.008253Z",
     "start_time": "2024-05-16T10:52:09.001578Z"
    }
   },
   "cell_type": "code",
   "source": [
    " # Save the model\n",
    "import joblib\n",
    "joblib.dump(grid.best_estimator_, 'decision_tree.pkl')"
   ],
   "id": "3a84b1dc6ac6939f",
   "outputs": [
    {
     "data": {
      "text/plain": [
       "['decision_tree.pkl']"
      ]
     },
     "execution_count": 29,
     "metadata": {},
     "output_type": "execute_result"
    }
   ],
   "execution_count": 29
  }
 ],
 "metadata": {
  "kernelspec": {
   "display_name": "Python 3",
   "language": "python",
   "name": "python3"
  },
  "language_info": {
   "codemirror_mode": {
    "name": "ipython",
    "version": 2
   },
   "file_extension": ".py",
   "mimetype": "text/x-python",
   "name": "python",
   "nbconvert_exporter": "python",
   "pygments_lexer": "ipython2",
   "version": "2.7.6"
  }
 },
 "nbformat": 4,
 "nbformat_minor": 5
}
