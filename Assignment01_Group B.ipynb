{
 "cells": [
  {
   "metadata": {},
   "cell_type": "markdown",
   "source": [
    "# Assignment 01\n",
    "\n",
    "Explanation of the overall idea: store management system with stores, products, orders, and customers. "
   ],
   "id": "27340ab7938a3f36"
  },
  {
   "metadata": {},
   "cell_type": "markdown",
   "source": [
    "## Imports\n",
    "In the following cell, all necessary imports are listed. "
   ],
   "id": "c716f2c44f802e53"
  },
  {
   "metadata": {
    "ExecuteTime": {
     "end_time": "2024-05-15T14:32:07.362700Z",
     "start_time": "2024-05-15T14:32:07.131205Z"
    }
   },
   "cell_type": "code",
   "source": [
    "from collections import defaultdict\n",
    "from datetime import datetime\n",
    "import pandas as pd\n",
    "import pyarrow.feather as feather\n",
    "import random"
   ],
   "id": "a9e3c46866078edc",
   "outputs": [
    {
     "ename": "SystemError",
     "evalue": "<class 'property'> returned a result with an error set",
     "output_type": "error",
     "traceback": [
      "\u001B[0;31m---------------------------------------------------------------------------\u001B[0m",
      "\u001B[0;31mAttributeError\u001B[0m                            Traceback (most recent call last)",
      "\u001B[0;31mAttributeError\u001B[0m: partially initialized module 'pandas' has no attribute '_pandas_datetime_CAPI' (most likely due to a circular import)",
      "\nThe above exception was the direct cause of the following exception:\n",
      "\u001B[0;31mSystemError\u001B[0m                               Traceback (most recent call last)",
      "Cell \u001B[0;32mIn[1], line 3\u001B[0m\n\u001B[1;32m      1\u001B[0m \u001B[38;5;28;01mfrom\u001B[39;00m \u001B[38;5;21;01mcollections\u001B[39;00m \u001B[38;5;28;01mimport\u001B[39;00m defaultdict\n\u001B[1;32m      2\u001B[0m \u001B[38;5;28;01mfrom\u001B[39;00m \u001B[38;5;21;01mdatetime\u001B[39;00m \u001B[38;5;28;01mimport\u001B[39;00m datetime\n\u001B[0;32m----> 3\u001B[0m \u001B[38;5;28;01mimport\u001B[39;00m \u001B[38;5;21;01mpandas\u001B[39;00m \u001B[38;5;28;01mas\u001B[39;00m \u001B[38;5;21;01mpd\u001B[39;00m\n\u001B[1;32m      4\u001B[0m \u001B[38;5;28;01mimport\u001B[39;00m \u001B[38;5;21;01mpyarrow\u001B[39;00m\u001B[38;5;21;01m.\u001B[39;00m\u001B[38;5;21;01mfeather\u001B[39;00m \u001B[38;5;28;01mas\u001B[39;00m \u001B[38;5;21;01mfeather\u001B[39;00m\n\u001B[1;32m      5\u001B[0m \u001B[38;5;28;01mimport\u001B[39;00m \u001B[38;5;21;01mrandom\u001B[39;00m\n",
      "File \u001B[0;32m~/Claudio/Studium/Esade/Term_3/Advanced Python/Advanced Python Programming/.venv/lib/python3.9/site-packages/pandas/__init__.py:49\u001B[0m\n\u001B[1;32m     46\u001B[0m \u001B[38;5;66;03m# let init-time option registration happen\u001B[39;00m\n\u001B[1;32m     47\u001B[0m \u001B[38;5;28;01mimport\u001B[39;00m \u001B[38;5;21;01mpandas\u001B[39;00m\u001B[38;5;21;01m.\u001B[39;00m\u001B[38;5;21;01mcore\u001B[39;00m\u001B[38;5;21;01m.\u001B[39;00m\u001B[38;5;21;01mconfig_init\u001B[39;00m  \u001B[38;5;66;03m# pyright: ignore[reportUnusedImport] # noqa: F401\u001B[39;00m\n\u001B[0;32m---> 49\u001B[0m \u001B[38;5;28;01mfrom\u001B[39;00m \u001B[38;5;21;01mpandas\u001B[39;00m\u001B[38;5;21;01m.\u001B[39;00m\u001B[38;5;21;01mcore\u001B[39;00m\u001B[38;5;21;01m.\u001B[39;00m\u001B[38;5;21;01mapi\u001B[39;00m \u001B[38;5;28;01mimport\u001B[39;00m (\n\u001B[1;32m     50\u001B[0m     \u001B[38;5;66;03m# dtype\u001B[39;00m\n\u001B[1;32m     51\u001B[0m     ArrowDtype,\n\u001B[1;32m     52\u001B[0m     Int8Dtype,\n\u001B[1;32m     53\u001B[0m     Int16Dtype,\n\u001B[1;32m     54\u001B[0m     Int32Dtype,\n\u001B[1;32m     55\u001B[0m     Int64Dtype,\n\u001B[1;32m     56\u001B[0m     UInt8Dtype,\n\u001B[1;32m     57\u001B[0m     UInt16Dtype,\n\u001B[1;32m     58\u001B[0m     UInt32Dtype,\n\u001B[1;32m     59\u001B[0m     UInt64Dtype,\n\u001B[1;32m     60\u001B[0m     Float32Dtype,\n\u001B[1;32m     61\u001B[0m     Float64Dtype,\n\u001B[1;32m     62\u001B[0m     CategoricalDtype,\n\u001B[1;32m     63\u001B[0m     PeriodDtype,\n\u001B[1;32m     64\u001B[0m     IntervalDtype,\n\u001B[1;32m     65\u001B[0m     DatetimeTZDtype,\n\u001B[1;32m     66\u001B[0m     StringDtype,\n\u001B[1;32m     67\u001B[0m     BooleanDtype,\n\u001B[1;32m     68\u001B[0m     \u001B[38;5;66;03m# missing\u001B[39;00m\n\u001B[1;32m     69\u001B[0m     NA,\n\u001B[1;32m     70\u001B[0m     isna,\n\u001B[1;32m     71\u001B[0m     isnull,\n\u001B[1;32m     72\u001B[0m     notna,\n\u001B[1;32m     73\u001B[0m     notnull,\n\u001B[1;32m     74\u001B[0m     \u001B[38;5;66;03m# indexes\u001B[39;00m\n\u001B[1;32m     75\u001B[0m     Index,\n\u001B[1;32m     76\u001B[0m     CategoricalIndex,\n\u001B[1;32m     77\u001B[0m     RangeIndex,\n\u001B[1;32m     78\u001B[0m     MultiIndex,\n\u001B[1;32m     79\u001B[0m     IntervalIndex,\n\u001B[1;32m     80\u001B[0m     TimedeltaIndex,\n\u001B[1;32m     81\u001B[0m     DatetimeIndex,\n\u001B[1;32m     82\u001B[0m     PeriodIndex,\n\u001B[1;32m     83\u001B[0m     IndexSlice,\n\u001B[1;32m     84\u001B[0m     \u001B[38;5;66;03m# tseries\u001B[39;00m\n\u001B[1;32m     85\u001B[0m     NaT,\n\u001B[1;32m     86\u001B[0m     Period,\n\u001B[1;32m     87\u001B[0m     period_range,\n\u001B[1;32m     88\u001B[0m     Timedelta,\n\u001B[1;32m     89\u001B[0m     timedelta_range,\n\u001B[1;32m     90\u001B[0m     Timestamp,\n\u001B[1;32m     91\u001B[0m     date_range,\n\u001B[1;32m     92\u001B[0m     bdate_range,\n\u001B[1;32m     93\u001B[0m     Interval,\n\u001B[1;32m     94\u001B[0m     interval_range,\n\u001B[1;32m     95\u001B[0m     DateOffset,\n\u001B[1;32m     96\u001B[0m     \u001B[38;5;66;03m# conversion\u001B[39;00m\n\u001B[1;32m     97\u001B[0m     to_numeric,\n\u001B[1;32m     98\u001B[0m     to_datetime,\n\u001B[1;32m     99\u001B[0m     to_timedelta,\n\u001B[1;32m    100\u001B[0m     \u001B[38;5;66;03m# misc\u001B[39;00m\n\u001B[1;32m    101\u001B[0m     Flags,\n\u001B[1;32m    102\u001B[0m     Grouper,\n\u001B[1;32m    103\u001B[0m     factorize,\n\u001B[1;32m    104\u001B[0m     unique,\n\u001B[1;32m    105\u001B[0m     value_counts,\n\u001B[1;32m    106\u001B[0m     NamedAgg,\n\u001B[1;32m    107\u001B[0m     array,\n\u001B[1;32m    108\u001B[0m     Categorical,\n\u001B[1;32m    109\u001B[0m     set_eng_float_format,\n\u001B[1;32m    110\u001B[0m     Series,\n\u001B[1;32m    111\u001B[0m     DataFrame,\n\u001B[1;32m    112\u001B[0m )\n\u001B[1;32m    114\u001B[0m \u001B[38;5;28;01mfrom\u001B[39;00m \u001B[38;5;21;01mpandas\u001B[39;00m\u001B[38;5;21;01m.\u001B[39;00m\u001B[38;5;21;01mcore\u001B[39;00m\u001B[38;5;21;01m.\u001B[39;00m\u001B[38;5;21;01mdtypes\u001B[39;00m\u001B[38;5;21;01m.\u001B[39;00m\u001B[38;5;21;01mdtypes\u001B[39;00m \u001B[38;5;28;01mimport\u001B[39;00m SparseDtype\n\u001B[1;32m    116\u001B[0m \u001B[38;5;28;01mfrom\u001B[39;00m \u001B[38;5;21;01mpandas\u001B[39;00m\u001B[38;5;21;01m.\u001B[39;00m\u001B[38;5;21;01mtseries\u001B[39;00m\u001B[38;5;21;01m.\u001B[39;00m\u001B[38;5;21;01mapi\u001B[39;00m \u001B[38;5;28;01mimport\u001B[39;00m infer_freq\n",
      "File \u001B[0;32m~/Claudio/Studium/Esade/Term_3/Advanced Python/Advanced Python Programming/.venv/lib/python3.9/site-packages/pandas/core/api.py:1\u001B[0m\n\u001B[0;32m----> 1\u001B[0m \u001B[38;5;28;01mfrom\u001B[39;00m \u001B[38;5;21;01mpandas\u001B[39;00m\u001B[38;5;21;01m.\u001B[39;00m\u001B[38;5;21;01m_libs\u001B[39;00m \u001B[38;5;28;01mimport\u001B[39;00m (\n\u001B[1;32m      2\u001B[0m     NaT,\n\u001B[1;32m      3\u001B[0m     Period,\n\u001B[1;32m      4\u001B[0m     Timedelta,\n\u001B[1;32m      5\u001B[0m     Timestamp,\n\u001B[1;32m      6\u001B[0m )\n\u001B[1;32m      7\u001B[0m \u001B[38;5;28;01mfrom\u001B[39;00m \u001B[38;5;21;01mpandas\u001B[39;00m\u001B[38;5;21;01m.\u001B[39;00m\u001B[38;5;21;01m_libs\u001B[39;00m\u001B[38;5;21;01m.\u001B[39;00m\u001B[38;5;21;01mmissing\u001B[39;00m \u001B[38;5;28;01mimport\u001B[39;00m NA\n\u001B[1;32m      9\u001B[0m \u001B[38;5;28;01mfrom\u001B[39;00m \u001B[38;5;21;01mpandas\u001B[39;00m\u001B[38;5;21;01m.\u001B[39;00m\u001B[38;5;21;01mcore\u001B[39;00m\u001B[38;5;21;01m.\u001B[39;00m\u001B[38;5;21;01mdtypes\u001B[39;00m\u001B[38;5;21;01m.\u001B[39;00m\u001B[38;5;21;01mdtypes\u001B[39;00m \u001B[38;5;28;01mimport\u001B[39;00m (\n\u001B[1;32m     10\u001B[0m     ArrowDtype,\n\u001B[1;32m     11\u001B[0m     CategoricalDtype,\n\u001B[0;32m   (...)\u001B[0m\n\u001B[1;32m     14\u001B[0m     PeriodDtype,\n\u001B[1;32m     15\u001B[0m )\n",
      "File \u001B[0;32m~/Claudio/Studium/Esade/Term_3/Advanced Python/Advanced Python Programming/.venv/lib/python3.9/site-packages/pandas/_libs/__init__.py:18\u001B[0m\n\u001B[1;32m     16\u001B[0m \u001B[38;5;28;01mimport\u001B[39;00m \u001B[38;5;21;01mpandas\u001B[39;00m\u001B[38;5;21;01m.\u001B[39;00m\u001B[38;5;21;01m_libs\u001B[39;00m\u001B[38;5;21;01m.\u001B[39;00m\u001B[38;5;21;01mpandas_parser\u001B[39;00m  \u001B[38;5;66;03m# isort: skip # type: ignore[reportUnusedImport]\u001B[39;00m\n\u001B[1;32m     17\u001B[0m \u001B[38;5;28;01mimport\u001B[39;00m \u001B[38;5;21;01mpandas\u001B[39;00m\u001B[38;5;21;01m.\u001B[39;00m\u001B[38;5;21;01m_libs\u001B[39;00m\u001B[38;5;21;01m.\u001B[39;00m\u001B[38;5;21;01mpandas_datetime\u001B[39;00m  \u001B[38;5;66;03m# noqa: F401 # isort: skip # type: ignore[reportUnusedImport]\u001B[39;00m\n\u001B[0;32m---> 18\u001B[0m \u001B[38;5;28;01mfrom\u001B[39;00m \u001B[38;5;21;01mpandas\u001B[39;00m\u001B[38;5;21;01m.\u001B[39;00m\u001B[38;5;21;01m_libs\u001B[39;00m\u001B[38;5;21;01m.\u001B[39;00m\u001B[38;5;21;01minterval\u001B[39;00m \u001B[38;5;28;01mimport\u001B[39;00m Interval\n\u001B[1;32m     19\u001B[0m \u001B[38;5;28;01mfrom\u001B[39;00m \u001B[38;5;21;01mpandas\u001B[39;00m\u001B[38;5;21;01m.\u001B[39;00m\u001B[38;5;21;01m_libs\u001B[39;00m\u001B[38;5;21;01m.\u001B[39;00m\u001B[38;5;21;01mtslibs\u001B[39;00m \u001B[38;5;28;01mimport\u001B[39;00m (\n\u001B[1;32m     20\u001B[0m     NaT,\n\u001B[1;32m     21\u001B[0m     NaTType,\n\u001B[0;32m   (...)\u001B[0m\n\u001B[1;32m     26\u001B[0m     iNaT,\n\u001B[1;32m     27\u001B[0m )\n",
      "File \u001B[0;32minterval.pyx:1\u001B[0m, in \u001B[0;36minit pandas._libs.interval\u001B[0;34m()\u001B[0m\n",
      "File \u001B[0;32mhashtable.pyx:1\u001B[0m, in \u001B[0;36minit pandas._libs.hashtable\u001B[0;34m()\u001B[0m\n",
      "File \u001B[0;32mmissing.pyx:1\u001B[0m, in \u001B[0;36minit pandas._libs.missing\u001B[0;34m()\u001B[0m\n",
      "File \u001B[0;32m~/Claudio/Studium/Esade/Term_3/Advanced Python/Advanced Python Programming/.venv/lib/python3.9/site-packages/pandas/_libs/tslibs/__init__.py:40\u001B[0m\n\u001B[1;32m      1\u001B[0m __all__ \u001B[38;5;241m=\u001B[39m [\n\u001B[1;32m      2\u001B[0m     \u001B[38;5;124m\"\u001B[39m\u001B[38;5;124mdtypes\u001B[39m\u001B[38;5;124m\"\u001B[39m,\n\u001B[1;32m      3\u001B[0m     \u001B[38;5;124m\"\u001B[39m\u001B[38;5;124mlocalize_pydatetime\u001B[39m\u001B[38;5;124m\"\u001B[39m,\n\u001B[0;32m   (...)\u001B[0m\n\u001B[1;32m     36\u001B[0m     \u001B[38;5;124m\"\u001B[39m\u001B[38;5;124mis_supported_dtype\u001B[39m\u001B[38;5;124m\"\u001B[39m,\n\u001B[1;32m     37\u001B[0m ]\n\u001B[1;32m     39\u001B[0m \u001B[38;5;28;01mfrom\u001B[39;00m \u001B[38;5;21;01mpandas\u001B[39;00m\u001B[38;5;21;01m.\u001B[39;00m\u001B[38;5;21;01m_libs\u001B[39;00m\u001B[38;5;21;01m.\u001B[39;00m\u001B[38;5;21;01mtslibs\u001B[39;00m \u001B[38;5;28;01mimport\u001B[39;00m dtypes  \u001B[38;5;66;03m# pylint: disable=import-self\u001B[39;00m\n\u001B[0;32m---> 40\u001B[0m \u001B[38;5;28;01mfrom\u001B[39;00m \u001B[38;5;21;01mpandas\u001B[39;00m\u001B[38;5;21;01m.\u001B[39;00m\u001B[38;5;21;01m_libs\u001B[39;00m\u001B[38;5;21;01m.\u001B[39;00m\u001B[38;5;21;01mtslibs\u001B[39;00m\u001B[38;5;21;01m.\u001B[39;00m\u001B[38;5;21;01mconversion\u001B[39;00m \u001B[38;5;28;01mimport\u001B[39;00m localize_pydatetime\n\u001B[1;32m     41\u001B[0m \u001B[38;5;28;01mfrom\u001B[39;00m \u001B[38;5;21;01mpandas\u001B[39;00m\u001B[38;5;21;01m.\u001B[39;00m\u001B[38;5;21;01m_libs\u001B[39;00m\u001B[38;5;21;01m.\u001B[39;00m\u001B[38;5;21;01mtslibs\u001B[39;00m\u001B[38;5;21;01m.\u001B[39;00m\u001B[38;5;21;01mdtypes\u001B[39;00m \u001B[38;5;28;01mimport\u001B[39;00m (\n\u001B[1;32m     42\u001B[0m     Resolution,\n\u001B[1;32m     43\u001B[0m     periods_per_day,\n\u001B[1;32m     44\u001B[0m     periods_per_second,\n\u001B[1;32m     45\u001B[0m )\n\u001B[1;32m     46\u001B[0m \u001B[38;5;28;01mfrom\u001B[39;00m \u001B[38;5;21;01mpandas\u001B[39;00m\u001B[38;5;21;01m.\u001B[39;00m\u001B[38;5;21;01m_libs\u001B[39;00m\u001B[38;5;21;01m.\u001B[39;00m\u001B[38;5;21;01mtslibs\u001B[39;00m\u001B[38;5;21;01m.\u001B[39;00m\u001B[38;5;21;01mnattype\u001B[39;00m \u001B[38;5;28;01mimport\u001B[39;00m (\n\u001B[1;32m     47\u001B[0m     NaT,\n\u001B[1;32m     48\u001B[0m     NaTType,\n\u001B[1;32m     49\u001B[0m     iNaT,\n\u001B[1;32m     50\u001B[0m     nat_strings,\n\u001B[1;32m     51\u001B[0m )\n",
      "File \u001B[0;32mconversion.pyx:1\u001B[0m, in \u001B[0;36minit pandas._libs.tslibs.conversion\u001B[0;34m()\u001B[0m\n",
      "File \u001B[0;32moffsets.pyx:1\u001B[0m, in \u001B[0;36minit pandas._libs.tslibs.offsets\u001B[0;34m()\u001B[0m\n",
      "File \u001B[0;32mtimestamps.pyx:1\u001B[0m, in \u001B[0;36minit pandas._libs.tslibs.timestamps\u001B[0;34m()\u001B[0m\n",
      "File \u001B[0;32mtimedeltas.pyx:86\u001B[0m, in \u001B[0;36minit pandas._libs.tslibs.timedeltas\u001B[0;34m()\u001B[0m\n",
      "File \u001B[0;32mfields.pyx:685\u001B[0m, in \u001B[0;36minit pandas._libs.tslibs.fields\u001B[0;34m()\u001B[0m\n",
      "\u001B[0;31mSystemError\u001B[0m: <class 'property'> returned a result with an error set"
     ]
    }
   ],
   "execution_count": 1
  },
  {
   "metadata": {},
   "cell_type": "markdown",
   "source": [
    "## Class: Product\n",
    "\n",
    "In the class Product, we apply the following concepts: \n",
    "- Slots: \n",
    "- Multiple assignment of variables: \n",
    "- xxx\n",
    "- xxx"
   ],
   "id": "410e51267fe86fa7"
  },
  {
   "metadata": {
    "ExecuteTime": {
     "end_time": "2024-05-15T14:33:14.677007Z",
     "start_time": "2024-05-15T14:33:14.671726Z"
    }
   },
   "cell_type": "code",
   "source": [
    "class Product:\n",
    "    __slots__ = ['_product_id', 'name', 'category', 'price', '_stock', '_sales']\n",
    "\n",
    "    def __init__(self, product_id, name, category, price, stock):\n",
    "        self._product_id, self.name, self.category, self.price, self._stock = product_id, name, category, price, stock\n",
    "        self._sales = 0\n",
    "\n",
    "    def is_in_stock(self, quantity):\n",
    "        return self._stock >= quantity\n",
    "\n",
    "    def purchase(self, quantity):\n",
    "        if self.is_in_stock(quantity):\n",
    "            self._stock -= quantity\n",
    "            self._sales += quantity\n",
    "            return True\n",
    "        return False\n",
    "\n",
    "    def restock(self, quantity):\n",
    "        self._stock += quantity\n",
    "\n",
    "    def get_details(self):\n",
    "        return f\"{self.name} - Category: {self.category}, Price: ${self.price:.2f}, Stock: {self._stock}\"\n",
    "\n",
    "    def to_dict(self):\n",
    "        return {\n",
    "            'product_id': self._product_id,\n",
    "            'name': self.name,\n",
    "            'category': self.category,\n",
    "            'price': self.price,\n",
    "            'stock': self._stock,\n",
    "            'sales': self._sales\n",
    "        }\n",
    "\n",
    "    @staticmethod\n",
    "    def from_dict(data):\n",
    "        product = Product(\n",
    "            data['product_id'],\n",
    "            data['name'],\n",
    "            data['category'],\n",
    "            data['price'],\n",
    "            data['stock']\n",
    "        )\n",
    "        product._sales = data['sales']\n",
    "        return product\n",
    "\n",
    "    def __repr__(self):\n",
    "        return f\"Product({self._product_id}, {self.name}, {self.category}, {self.price}, {self._stock})\""
   ],
   "id": "e40a0ae79f47055e",
   "outputs": [],
   "execution_count": 2
  },
  {
   "metadata": {},
   "cell_type": "markdown",
   "source": [
    "## Class: Electronics (inherits from class Product)\n",
    "\n",
    "In the class Electronics, we apply the following concepts: \n",
    "- Inheritance: class Electronics inherits from class Product\n",
    "- Slots: \n",
    "- xxx\n",
    "- xxx"
   ],
   "id": "d11df4004d86b590"
  },
  {
   "metadata": {
    "ExecuteTime": {
     "end_time": "2024-05-15T14:34:28.407605Z",
     "start_time": "2024-05-15T14:34:28.403177Z"
    }
   },
   "cell_type": "code",
   "source": [
    "# Sub-category class inheriting from Product\n",
    "class Electronics(Product):\n",
    "    __slots__ = ['warranty']\n",
    "\n",
    "    def __init__(self, product_id, name, price, stock, warranty):\n",
    "        super().__init__(product_id, name, 'Electronics', price, stock)\n",
    "        self.warranty = warranty  # Public variable for electronics-specific warranty period\n",
    "\n",
    "    def to_dict(self):\n",
    "        data = super().to_dict()\n",
    "        data['warranty'] = self.warranty\n",
    "        return data\n",
    "\n",
    "    @staticmethod\n",
    "    def from_dict(data):\n",
    "        return Electronics(\n",
    "            data['product_id'],\n",
    "            data['name'],\n",
    "            data['price'],\n",
    "            data['stock'],\n",
    "            data['warranty']\n",
    "        )\n",
    "\n",
    "    def get_details(self):\n",
    "        base_details = super().get_details()\n",
    "        return f\"{base_details}, Warranty: {self.warranty} months\"\n",
    "\n",
    "    def __repr__(self):\n",
    "        return f\"Electronics({self._product_id}, {self.name}, {self.price}, {self._stock}, {self.warranty})\"\n",
    "\n"
   ],
   "id": "2841c0aae62a46a0",
   "outputs": [],
   "execution_count": 3
  },
  {
   "metadata": {},
   "cell_type": "markdown",
   "source": [
    "## Class: Kitchen (inherits from class Products)\n",
    "\n",
    "In the class Kitchen, we apply the following concepts: \n",
    "- Inheritance: class Kitchen inherits from class Product\n",
    "- Slots: \n",
    "- xxx\n",
    "- xxx"
   ],
   "id": "8f0bdc340419adfb"
  },
  {
   "metadata": {
    "ExecuteTime": {
     "end_time": "2024-05-15T14:35:15.583674Z",
     "start_time": "2024-05-15T14:35:15.578693Z"
    }
   },
   "cell_type": "code",
   "source": [
    "# Sub-category class inheriting from Product\n",
    "class Kitchen(Product):\n",
    "    __slots__ = ['energy_rating']\n",
    "\n",
    "    def __init__(self, product_id, name, price, stock, energy_rating):\n",
    "        super().__init__(product_id, name, 'Kitchen', price, stock)\n",
    "        self.energy_rating = energy_rating  # Public variable for kitchen appliances' energy rating\n",
    "\n",
    "    def to_dict(self):\n",
    "        data = super().to_dict()\n",
    "        data['energy_rating'] = self.energy_rating\n",
    "        return data\n",
    "\n",
    "    @staticmethod\n",
    "    def from_dict(data):\n",
    "        return Kitchen(\n",
    "            data['product_id'],\n",
    "            data['name'],\n",
    "            data['price'],\n",
    "            data['stock'],\n",
    "            data['energy_rating']\n",
    "        )\n",
    "\n",
    "    def get_details(self):\n",
    "        base_details = super().get_details()\n",
    "        return f\"{base_details}, Energy Rating: {self.energy_rating}\"\n",
    "\n",
    "    def __repr__(self):\n",
    "        return f\"Kitchen({self._product_id}, {self.name}, {self.price}, {self._stock}, {self.energy_rating})\"\n"
   ],
   "id": "32ac789ab41ddeb7",
   "outputs": [],
   "execution_count": 4
  },
  {
   "metadata": {},
   "cell_type": "markdown",
   "source": [
    "## Class: Customer\n",
    "\n",
    "In the class Customer, we apply the following concepts: \n",
    "- Key: for ordering lists\n",
    "- xxx\n",
    "- xxx\n",
    "- xxx"
   ],
   "id": "273087e48a4744a0"
  },
  {
   "metadata": {
    "ExecuteTime": {
     "end_time": "2024-05-15T14:35:37.219957Z",
     "start_time": "2024-05-15T14:35:37.216149Z"
    }
   },
   "cell_type": "code",
   "source": [
    "class Customer:\n",
    "    def __init__(self, customer_id, name):\n",
    "        self.customer_id = customer_id\n",
    "        self.name = name\n",
    "        self.orders = defaultdict(list)\n",
    "\n",
    "    def place_order(self, order):\n",
    "        self.orders[order.order_id] = order\n",
    "\n",
    "    def list_orders(self):\n",
    "        return list(self.orders.keys())\n",
    "\n",
    "    def to_dict(self):\n",
    "        return {'customer_id': self.customer_id, 'name': self.name}\n",
    "\n",
    "    @staticmethod\n",
    "    def from_dict(data):\n",
    "        return Customer(data['customer_id'], data['name'])\n",
    "\n",
    "    def __repr__(self):\n",
    "        return f\"Customer({self.customer_id}, {self.name})\"\n"
   ],
   "id": "5a264b3b3bd037a7",
   "outputs": [],
   "execution_count": 5
  },
  {
   "metadata": {},
   "cell_type": "markdown",
   "source": [
    "## Class: Order\n",
    "\n",
    "In the class Order, we apply the following concepts: \n",
    "- Concatenate strings with \"join\" operation: \n",
    "- xxx\n",
    "- xxx\n",
    "- xxx\n"
   ],
   "id": "60760914f5b93689"
  },
  {
   "metadata": {
    "ExecuteTime": {
     "end_time": "2024-05-15T14:36:04.776395Z",
     "start_time": "2024-05-15T14:36:04.771835Z"
    }
   },
   "cell_type": "code",
   "source": [
    "class Order:\n",
    "    def __init__(self, order_id, customer, products):\n",
    "        self.order_id = order_id\n",
    "        self.customer = customer\n",
    "        self.products = products\n",
    "        self.timestamp = datetime.now()\n",
    "\n",
    "    def get_summary(self):\n",
    "        total = sum(p['product'].price * p['quantity'] for p in self.products)\n",
    "        product_list = \", \".join([f\"{p['product'].name} (x{p['quantity']})\" for p in self.products])\n",
    "        return f\"Order {self.order_id}: {product_list}, Total: ${total:.2f}, Timestamp: {self.timestamp}\"\n",
    "\n",
    "    def __repr__(self):\n",
    "        return f\"Order({self.order_id}, {self.customer}, {self.products})\"\n",
    "\n"
   ],
   "id": "b959e27a0240eef4",
   "outputs": [],
   "execution_count": 6
  },
  {
   "metadata": {},
   "cell_type": "markdown",
   "source": [
    "## Class: Store\n",
    "\n",
    "In the class Store, we apply the following concepts: \n",
    "- Multiple assignment of variables: \n",
    "- Raise exception: \n",
    "- Check membership of a list with \"in\": \n",
    "- Save data in feather file: \n",
    "- Check for overlapping values with set and union: \n",
    "- List comprehension: \n",
    "\n"
   ],
   "id": "8f1efae5a69e934c"
  },
  {
   "metadata": {
    "ExecuteTime": {
     "end_time": "2024-05-15T14:36:44.825728Z",
     "start_time": "2024-05-15T14:36:44.812940Z"
    }
   },
   "cell_type": "code",
   "source": [
    "class Store:\n",
    "    def __init__(self):\n",
    "        self.products, self.customers, self.orders = {}, {}, defaultdict(list)\n",
    "        self.next_order_id = 1\n",
    "\n",
    "    def add_product(self, product):\n",
    "        if product._product_id not in self.products:\n",
    "            self.products[product._product_id] = product\n",
    "            print(f\"Product '{product.name}' added to the store.\")\n",
    "        else:\n",
    "            print(f\"Product '{product.name}' is already in the store.\")\n",
    "\n",
    "    def add_customer(self, customer_id, name):\n",
    "        if customer_id not in self.customers:\n",
    "            self.customers[customer_id] = Customer(customer_id, name)\n",
    "            print(f\"Customer '{name}' registered.\")\n",
    "        else:\n",
    "            print(f\"Customer '{name}' is already registered.\")\n",
    "\n",
    "    def save_and_load_customers(self, filepath='customers.feather'):\n",
    "        \"\"\"Save and then load customers to/from a Feather file for persistent storage.\"\"\"\n",
    "        data = pd.DataFrame([c.to_dict() for c in self.customers.values()])\n",
    "        feather.write_feather(data, filepath)\n",
    "        loaded_data = pd.read_feather(filepath)\n",
    "        for _, row in loaded_data.iterrows():\n",
    "            self.customers[row['customer_id']] = Customer.from_dict(row)\n",
    "\n",
    "    def save_and_load_products(self, filepath='products.feather'):\n",
    "        \"\"\"Save and then load products to/from a Feather file for persistent storage.\"\"\"\n",
    "        data = pd.DataFrame([p.to_dict() for p in self.products.values()])\n",
    "        feather.write_feather(data, filepath)\n",
    "        loaded_data = pd.read_feather(filepath)\n",
    "        for _, row in loaded_data.iterrows():\n",
    "            category = row['category']\n",
    "            if category == 'Electronics':\n",
    "                product = Electronics.from_dict(row)\n",
    "            else:\n",
    "                product = Product.from_dict(row)\n",
    "            self.products[row['product_id']] = product\n",
    "\n",
    "    def emulate_random_orders(self, num_orders):\n",
    "            for _ in range(num_orders):\n",
    "                customer_id = random.choice(list(self.customers.keys()))\n",
    "                order_quantities = {}\n",
    "                for product_id in self.products.keys():\n",
    "                    if random.random() > 0.3:  # 70% chance of including this product in the order\n",
    "                        quantity = random.randint(1, 3)\n",
    "                        order_quantities[product_id] = quantity\n",
    "\n",
    "                if order_quantities:\n",
    "                    self.place_order(customer_id, order_quantities)\n",
    "                \n",
    "    def place_order(self, customer_id, product_quantities):\n",
    "        \"\"\"Place an order for a given customer and their desired product quantities.\"\"\"\n",
    "        if customer_id not in self.customers:\n",
    "            raise ValueError(f\"No customer with ID '{customer_id}' found.\")\n",
    "\n",
    "        customer = self.customers[customer_id]\n",
    "        order_products = []\n",
    "        for product_id, quantity in product_quantities.items():\n",
    "            if product_id in self.products:\n",
    "                product = self.products[product_id]\n",
    "                if product.purchase(quantity):\n",
    "                    order_products.append({'product': product, 'quantity': quantity})\n",
    "                else:\n",
    "                    print(f\"Not enough stock for '{product.name}' (Requested: {quantity}, Available: {product._stock})\")\n",
    "            else:\n",
    "                print(f\"No product with ID '{product_id}' found.\")\n",
    "\n",
    "        if order_products:\n",
    "            order = Order(self.next_order_id, customer_id, order_products)\n",
    "            self.orders[self.next_order_id] = order\n",
    "            customer.place_order(order)\n",
    "            self.next_order_id += 1\n",
    "            print(order.get_summary())\n",
    "        else:\n",
    "            print(\"No valid products available to place an order.\")\n",
    "\n",
    "    def list_products(self):\n",
    "        if self.products:\n",
    "            for product in self.products.values():\n",
    "                print(product.get_details())\n",
    "        else:\n",
    "            print(\"No products available in the store.\")\n",
    "\n",
    "    def list_orders(self):\n",
    "        if self.orders:\n",
    "            for order in self.orders.values():\n",
    "                print(order.get_summary())\n",
    "        else:\n",
    "            print(\"No orders placed yet.\")\n",
    "\n",
    "    def list_customers(self):\n",
    "        if self.customers:\n",
    "            for customer in self.customers.values():\n",
    "                print(f\"Customer {customer.customer_id}: {customer.name}, Orders: {customer.list_orders()}\")\n",
    "        else:\n",
    "            print(\"No customers registered.\")\n",
    "            \n",
    "    def check_category_overlap(self):\n",
    "        # Example to check overlapping categories using set operations\n",
    "        electronic_ids = {prod._product_id for prod in self.products.values() if prod.category == 'Electronics'}\n",
    "        kitchen_ids = {prod._product_id for prod in self.products.values() if prod.category == 'Kitchen'}\n",
    "        overlap = electronic_ids.intersection(kitchen_ids)\n",
    "        print(\"Overlap in product IDs between Electronics and Kitchen:\", overlap)\n",
    "            "
   ],
   "id": "d28d40c9945f624b",
   "outputs": [],
   "execution_count": 7
  },
  {
   "metadata": {},
   "cell_type": "markdown",
   "source": [
    "## Execution: Creation of objects from classes\n",
    "\n",
    "xxx"
   ],
   "id": "879725901421b4e"
  },
  {
   "metadata": {},
   "cell_type": "code",
   "outputs": [],
   "execution_count": null,
   "source": [
    "# Initialize store and add products/customers as usual\n",
    "store = Store()\n",
    "\n",
    "# Add electronics products\n",
    "store.add_product(Electronics(101, \"Laptop\", 999.99, 50, 24))\n",
    "store.add_product(Electronics(102, \"Smartphone\", 599.99, 150, 12))\n",
    "\n",
    "# Add kitchen products\n",
    "store.add_product(Kitchen(201, \"Blender\", 99.99, 30, \"A++\"))\n",
    "store.add_product(Kitchen(202, \"Toaster\", 49.99, 50, \"A+\"))\n",
    "\n",
    "# Add customers manually\n",
    "store.add_customer(1, \"Alice\")\n",
    "store.add_customer(2, \"Bob\")\n",
    "\n",
    "# Save and load customers AND products to/from a Feather file\n",
    "store.save_and_load_customers()\n",
    "store.save_and_load_products()\n",
    "\n",
    "# List loaded products and customers to confirm persistence\n",
    "print(\"\\nLoaded Products:\")\n",
    "store.list_products()\n",
    "\n",
    "print(\"\\nLoaded Customers:\")\n",
    "store.list_customers()\n",
    "\n",
    "# Emulate random orders\n",
    "print(\"\\nEmulating Random Orders:\")\n",
    "store.emulate_random_orders(50)\n",
    "print(\"\\nListing Orders:\")\n",
    "store.list_orders()\n",
    "\n",
    "store.check_category_overlap() "
   ],
   "id": "9cbc841f97baab3c"
  },
  {
   "metadata": {},
   "cell_type": "markdown",
   "source": [
    "## Garbage collector\n",
    "\n",
    "xxx"
   ],
   "id": "3a3223871b1c374b"
  },
  {
   "metadata": {},
   "cell_type": "code",
   "outputs": [],
   "execution_count": null,
   "source": "gc.collect()",
   "id": "774f43d7acce6a7"
  }
 ],
 "metadata": {
  "kernelspec": {
   "display_name": "Python 3",
   "language": "python",
   "name": "python3"
  },
  "language_info": {
   "codemirror_mode": {
    "name": "ipython",
    "version": 2
   },
   "file_extension": ".py",
   "mimetype": "text/x-python",
   "name": "python",
   "nbconvert_exporter": "python",
   "pygments_lexer": "ipython2",
   "version": "2.7.6"
  }
 },
 "nbformat": 4,
 "nbformat_minor": 5
}
